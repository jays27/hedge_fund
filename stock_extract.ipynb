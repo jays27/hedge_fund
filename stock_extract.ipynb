{
 "cells": [
  {
   "cell_type": "code",
   "execution_count": 14,
   "metadata": {
    "collapsed": true
   },
   "outputs": [],
   "source": [
    "import bs4\n",
    "from urllib.request import urlopen as uReq\n",
    "from bs4 import BeautifulSoup as soup\n",
    "import pandas as pd"
   ]
  },
  {
   "cell_type": "code",
   "execution_count": 15,
   "metadata": {
    "collapsed": true
   },
   "outputs": [],
   "source": [
    "stock_tick = ['MSFT','GOOG','TSLA','AAPL']"
   ]
  },
  {
   "cell_type": "code",
   "execution_count": 16,
   "metadata": {},
   "outputs": [],
   "source": [
    "for name in stock_tick:\n",
    "    stock_name = name\n",
    "    my_url = 'https://www.gurufocus.com/stock/'+stock_name+'/summary'\n",
    "    uStock = uReq(my_url)\n",
    "    stock_html = uStock.read()\n",
    "    uStock.close()\n",
    "    stock_soup = soup(stock_html, 'html.parser')\n",
    "    table = stock_soup.findAll(\"div\",{\"class\":\"capture-area\"})\n",
    "    feature = table[1].findAll(\"tr\",{\"class\":\"stock-indicators-table-row\"})\n",
    "    features = []\n",
    "    rem = [4,3,0]\n",
    "    feature_list = list(range(len(feature)))\n",
    "    for i in feature_list:\n",
    "        feature_extract = feature[i].text.splitlines()\n",
    "        for i in rem:\n",
    "            del feature_extract[i]\n",
    "        feature_extract = list(filter(None, feature_extract))\n",
    "        features.append(feature_extract)\n",
    "        \n",
    "    \n",
    "    stock = pd.DataFrame(features)\n",
    "    stock.to_excel(''+stock_name+'.xlsx', header=False, index=False)\n",
    "       "
   ]
  },
  {
   "cell_type": "code",
   "execution_count": null,
   "metadata": {
    "collapsed": true
   },
   "outputs": [],
   "source": []
  }
 ],
 "metadata": {
  "kernelspec": {
   "display_name": "Python 3",
   "language": "python",
   "name": "python3"
  },
  "language_info": {
   "codemirror_mode": {
    "name": "ipython",
    "version": 3
   },
   "file_extension": ".py",
   "mimetype": "text/x-python",
   "name": "python",
   "nbconvert_exporter": "python",
   "pygments_lexer": "ipython3",
   "version": "3.6.4"
  }
 },
 "nbformat": 4,
 "nbformat_minor": 2
}
