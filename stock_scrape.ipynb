{
 "cells": [
  {
   "cell_type": "code",
   "execution_count": 21,
   "metadata": {
    "collapsed": true
   },
   "outputs": [],
   "source": [
    "import datetime as dt\n",
    "import matplotlib.pyplot as plt \n",
    "from matplotlib import style\n",
    "import pandas as pd\n",
    "import pandas_datareader.data as web"
   ]
  },
  {
   "cell_type": "code",
   "execution_count": 22,
   "metadata": {
    "collapsed": true
   },
   "outputs": [],
   "source": [
    "style.use('ggplot')"
   ]
  },
  {
   "cell_type": "code",
   "execution_count": 23,
   "metadata": {
    "collapsed": true
   },
   "outputs": [],
   "source": [
    "start = dt.datetime(2000,1,1)\n",
    "end = dt.datetime(2016,12,31)"
   ]
  },
  {
   "cell_type": "code",
   "execution_count": 27,
   "metadata": {
    "collapsed": true
   },
   "outputs": [],
   "source": [
    "df = web.DataReader('EUR=X','yahoo',start,end)\n"
   ]
  },
  {
   "cell_type": "code",
   "execution_count": 31,
   "metadata": {},
   "outputs": [
    {
     "name": "stdout",
     "output_type": "stream",
     "text": [
      "               High      Low     Open    Close  Volume  Adj Close\n",
      "Date                                                             \n",
      "2003-12-01  0.83724  0.83056  0.83098  0.83577     0.0    0.83577\n",
      "2003-12-02  0.83710  0.82583  0.83605  0.82720     0.0    0.82720\n",
      "2003-12-03  0.82802  0.82440  0.82713  0.82488     0.0    0.82488\n",
      "2003-12-04  0.83029  0.82345  0.82508  0.82775     0.0    0.82775\n",
      "2003-12-05  0.82878  0.82028  0.82795  0.82055     0.0    0.82055\n"
     ]
    }
   ],
   "source": [
    "print(df.head())"
   ]
  },
  {
   "cell_type": "code",
   "execution_count": 20,
   "metadata": {},
   "outputs": [
    {
     "name": "stdout",
     "output_type": "stream",
     "text": [
      "Financial Strength\n",
      "6/10\n",
      "\n",
      "Cash-To-Debt\n",
      "0.99\n",
      "\n",
      "\n",
      "Equity-to-Asset\n",
      "0.26\n",
      "\n",
      "\n",
      "Debt-to-Equity\n",
      "1.21\n",
      "\n",
      "\n",
      "Debt-to-EBITDA\n",
      "1.3\n",
      "\n",
      "\n",
      "Interest Coverage\n",
      "19.06\n",
      "\n",
      "\n",
      "Piotroski F-Score\n",
      "7\n",
      "0\n",
      "\n",
      "1\n",
      "\n",
      "2\n",
      "\n",
      "3\n",
      "\n",
      "4\n",
      "\n",
      "5\n",
      "\n",
      "6\n",
      "\n",
      "7\n",
      "\n",
      "8\n",
      "\n",
      "9\n",
      "Altman Z-Score\n",
      "4.78\n",
      "DISTRESS\n",
      "\n",
      "GREY\n",
      "\n",
      "SAFE\n",
      "Beneish M-Score\n",
      "-2.67\n",
      "Not Manipulator\n",
      "\n",
      "Manipulator\n",
      "WACC vs ROIC\n",
      "\n",
      "ROIC 48.13%\n",
      "\n",
      "WACC 7.79%\n",
      "Profitability Rank\n",
      "10/10\n",
      "\n",
      "Operating Margin %\n",
      "24.71\n",
      "\n",
      "\n",
      "Net Margin %\n",
      "21.49\n",
      "\n",
      "\n",
      "ROE %\n",
      "57.5\n",
      "\n",
      "\n",
      "ROA %\n",
      "16.75\n",
      "\n",
      "\n",
      "ROC (Joel Greenblatt) %\n",
      "187.04\n",
      "\n",
      "\n",
      "3-Year Revenue Growth Rate\n",
      "12.6\n",
      "\n",
      "\n",
      "3-Year EBITDA Growth Rate\n",
      "9.7\n",
      "\n",
      "\n",
      "3-Year EPS without NRI Growth Rate\n",
      "12.7\n",
      "\n",
      "\n",
      "Valuation Rank\n",
      "1/10\n",
      "\n",
      "PE Ratio\n",
      "19.15\n",
      "\n",
      "\n",
      "Forward PE Ratio\n",
      "21.28\n",
      "\n",
      "N/A\n",
      "PE Ratio without NRI\n",
      "19.15\n",
      "\n",
      "\n",
      "Price-to-Owner-Earnings\n",
      "18.62\n",
      "\n",
      "\n",
      "PB Ratio\n",
      "11.88\n",
      "\n",
      "\n",
      "PS Ratio\n",
      "4.12\n",
      "\n",
      "\n",
      "Price-to-Free-Cash-Flow\n",
      "17.15\n",
      "\n",
      "\n",
      "Price-to-Operating-Cash-Flow\n",
      "14.98\n",
      "\n",
      "\n",
      "EV-to-EBIT\n",
      "14.89\n",
      "\n",
      "\n",
      "EV-to-EBITDA\n",
      "12.76\n",
      "\n",
      "\n",
      "EV-to-Revenue\n",
      "3.94\n",
      "\n",
      "\n",
      "PEG Ratio\n",
      "2.16\n",
      "\n",
      "\n",
      "Shiller PE Ratio\n",
      "28.62\n",
      "\n",
      "\n",
      "Current Ratio\n",
      "1.6\n",
      "\n",
      "\n",
      "Quick Ratio\n",
      "1.56\n",
      "\n",
      "\n",
      "Days Inventory\n",
      "9.42\n",
      "\n",
      "\n",
      "Days Sales Outstanding\n",
      "28.59\n",
      "\n",
      "\n",
      "Days Payable\n",
      "99.13\n",
      "\n",
      "\n",
      "Dividend & Buy Back\n",
      "\n",
      "\n",
      "Dividend Yield %\n",
      "1.27\n",
      "\n",
      "\n",
      "Dividend Payout Ratio\n",
      "0.24\n",
      "\n",
      "\n",
      "3-Year Dividend Growth Rate\n",
      "11.2\n",
      "\n",
      "\n",
      "Forward Dividend Yield %\n",
      "1.11\n",
      "\n",
      "N/A\n",
      "5-Year Yield-on-Cost %\n",
      "2.11\n",
      "\n",
      "\n",
      "3-Year Average Share Buyback Ratio\n",
      "5.9\n",
      "\n",
      "\n",
      "Valuation & Return\n",
      "\n",
      "\n",
      "Price-to-Tangible-Book\n",
      "11.86\n",
      "\n",
      "\n",
      "Price-to-Intrinsic-Value-Projected-FCF\n",
      "1.13\n",
      "\n",
      "\n",
      "Price-to-Intrinsic-Value-DCF (Earnings Based)\n",
      "0.67\n",
      "\n",
      "\n",
      "Price-to-Median-PS-Value\n",
      "1.13\n",
      "\n",
      "\n",
      "Price-to-Peter-Lynch-Fair-Value\n",
      "2.51\n",
      "\n",
      "\n",
      "Price-to-Graham-Number\n",
      "3.18\n",
      "\n",
      "\n",
      "Earnings Yield (Greenblatt) %\n",
      "6.71\n",
      "\n",
      "\n",
      "Forward Rate of Return (Yacktman) %\n",
      "11.95\n",
      "\n",
      "\n"
     ]
    }
   ],
   "source": [
    "data = requests.get(\"https://www.gurufocus.com/stock/AAPL/summary\")\n",
    "\n",
    "soup = BeautifulSoup(data.text, 'html.parser')\n",
    "\n",
    "for tr in soup.find_all('tr'):\n",
    "    for td in tr.find_all('td'):\n",
    "        ratio = td.text.strip()\n",
    "        print(ratio)\n",
    "        "
   ]
  },
  {
   "cell_type": "code",
   "execution_count": 5,
   "metadata": {
    "collapsed": true
   },
   "outputs": [],
   "source": [
    "import pandas as pd"
   ]
  },
  {
   "cell_type": "code",
   "execution_count": 7,
   "metadata": {
    "collapsed": true
   },
   "outputs": [],
   "source": [
    "abc = pd.DataFrame"
   ]
  },
  {
   "cell_type": "code",
   "execution_count": 14,
   "metadata": {},
   "outputs": [
    {
     "name": "stdout",
     "output_type": "stream",
     "text": [
      "\n"
     ]
    }
   ],
   "source": [
    "print(abc)"
   ]
  },
  {
   "cell_type": "code",
   "execution_count": 19,
   "metadata": {},
   "outputs": [
    {
     "name": "stdout",
     "output_type": "stream",
     "text": [
      "\n"
     ]
    }
   ],
   "source": [
    "print(ratio)"
   ]
  },
  {
   "cell_type": "code",
   "execution_count": null,
   "metadata": {
    "collapsed": true
   },
   "outputs": [],
   "source": []
  }
 ],
 "metadata": {
  "kernelspec": {
   "display_name": "Python 3",
   "language": "python",
   "name": "python3"
  },
  "language_info": {
   "codemirror_mode": {
    "name": "ipython",
    "version": 3
   },
   "file_extension": ".py",
   "mimetype": "text/x-python",
   "name": "python",
   "nbconvert_exporter": "python",
   "pygments_lexer": "ipython3",
   "version": "3.6.4"
  }
 },
 "nbformat": 4,
 "nbformat_minor": 2
}
